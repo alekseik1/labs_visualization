{
 "cells": [
  {
   "cell_type": "markdown",
   "metadata": {
    "collapsed": true
   },
   "source": [
    "# Notebook для лаб"
   ]
  },
  {
   "cell_type": "markdown",
   "metadata": {},
   "source": [
    "Настоящий ноутбук используется для более-менее автоматизированной обработки лаб. В коде ниже необходимо последовательно задавать значения переменных, а затем радоваться на выходе красивым графикам. При необходимости весь код можно запускать отдельно от ноутбука (достаточно его просто скопировать в интерпретатор)."
   ]
  },
  {
   "cell_type": "code",
   "execution_count": 29,
   "metadata": {
    "collapsed": true
   },
   "outputs": [],
   "source": [
    "import matplotlib.pyplot as plt\n",
    "import numpy as np\n",
    "from matplotlib.ticker import MultipleLocator\n",
    "from scipy.interpolate import interp1d\n",
    "import pandas as pd"
   ]
  },
  {
   "cell_type": "markdown",
   "metadata": {},
   "source": [
    "Имя файла с экспериментальными данными (формата csv). Из него будем брать весь эксперимент"
   ]
  },
  {
   "cell_type": "code",
   "execution_count": 30,
   "metadata": {
    "collapsed": true
   },
   "outputs": [],
   "source": [
    "input_file = './sample_input.txt'"
   ]
  },
  {
   "cell_type": "markdown",
   "metadata": {},
   "source": [
    "Столбцы, которые принять за x и за y"
   ]
  },
  {
   "cell_type": "code",
   "execution_count": 31,
   "metadata": {
    "collapsed": true
   },
   "outputs": [],
   "source": [
    "x_data = 'I'\n",
    "y_data = 'V'"
   ]
  },
  {
   "cell_type": "markdown",
   "metadata": {},
   "source": [
    "Технический код. Считываем данные и ищем максимум из них."
   ]
  },
  {
   "cell_type": "code",
   "execution_count": 32,
   "metadata": {},
   "outputs": [],
   "source": [
    "frame = pd.read_csv(input_file)\n",
    "\n",
    "x = frame[[x_data]]\n",
    "y = frame[[y_data]]\n",
    "\n",
    "y_max = np.max(y)[0]\n",
    "y_min = np.min(y)[0]\n",
    "x_max = np.max(x)[0]\n",
    "x_min = np.min(x)[0]"
   ]
  },
  {
   "cell_type": "markdown",
   "metadata": {},
   "source": [
    "Теперь попытаемся найти лучший размера для одного tick. Для этого мы переберем несколько вариантов и отберем тот, что делает число major_ticks от 0 до 10.\n",
    "\n",
    "TODO: улучшить этот алгоритм"
   ]
  },
  {
   "cell_type": "code",
   "execution_count": 33,
   "metadata": {
    "collapsed": true
   },
   "outputs": [],
   "source": [
    "major_ticks_variants = [5 * 10 ** (n) for n in range(-8, 8)]\n",
    "\n",
    "# Ищем лучший вариант для major_ticks (чтобы были через 5 и чтобы все изменерия там поместились)\n",
    "\n",
    "best_x_variant = major_ticks_variants[0]\n",
    "best_y_variant = major_ticks_variants[0]\n",
    "\n",
    "for variant in major_ticks_variants:\n",
    "    if 0 < (x_max - x_min) / variant <= 10:\n",
    "        best_x_variant = variant\n",
    "        break\n",
    "\n",
    "for variant in major_ticks_variants:\n",
    "    if 0 < (y_max - y_min) / variant <= 10:\n",
    "        best_y_variant = variant\n",
    "        break"
   ]
  },
  {
   "cell_type": "markdown",
   "metadata": {},
   "source": [
    "Объявим Locator для обоих осей"
   ]
  },
  {
   "cell_type": "code",
   "execution_count": 34,
   "metadata": {
    "collapsed": true
   },
   "outputs": [],
   "source": [
    "xmajorLocator = MultipleLocator(best_x_variant)\n",
    "ymajorLocator = MultipleLocator(best_y_variant)"
   ]
  },
  {
   "cell_type": "markdown",
   "metadata": {},
   "source": [
    "Введите сюда число minor_ticks. В большинстве случаев сойдет число 4 или 5"
   ]
  },
  {
   "cell_type": "code",
   "execution_count": 35,
   "metadata": {
    "collapsed": true
   },
   "outputs": [],
   "source": [
    "number_of_minor_ticks = 5"
   ]
  },
  {
   "cell_type": "markdown",
   "metadata": {},
   "source": [
    "Теперь объявляем minor_locator"
   ]
  },
  {
   "cell_type": "code",
   "execution_count": 36,
   "metadata": {
    "collapsed": true
   },
   "outputs": [],
   "source": [
    "xminorLocator = MultipleLocator(best_x_variant / number_of_minor_ticks)\n",
    "yminorLocator = MultipleLocator(best_y_variant / number_of_minor_ticks)"
   ]
  },
  {
   "cell_type": "markdown",
   "metadata": {},
   "source": [
    "Почти готово! Осталось создать figure, где мы будем рисовать и настроить его"
   ]
  },
  {
   "cell_type": "code",
   "execution_count": 37,
   "metadata": {
    "collapsed": true
   },
   "outputs": [],
   "source": [
    "fig, ax = plt.subplots()\n",
    "\n",
    "# set Locators\n",
    "ax.xaxis.set_minor_locator(xminorLocator)\n",
    "ax.yaxis.set_minor_locator(yminorLocator)\n",
    "ax.xaxis.set_major_locator(xmajorLocator)\n",
    "ax.yaxis.set_major_locator(ymajorLocator)"
   ]
  },
  {
   "cell_type": "markdown",
   "metadata": {},
   "source": [
    "TODO: сделать интерполяцию.\n",
    "\n",
    "Создаем график по экспериментальным точкам"
   ]
  },
  {
   "cell_type": "code",
   "execution_count": 38,
   "metadata": {},
   "outputs": [
    {
     "data": {
      "text/plain": [
       "[<matplotlib.lines.Line2D at 0x7feadfb42350>]"
      ]
     },
     "execution_count": 38,
     "metadata": {},
     "output_type": "execute_result"
    }
   ],
   "source": [
    "plt.plot(x, y, '--', color='k')"
   ]
  },
  {
   "cell_type": "markdown",
   "metadata": {},
   "source": [
    "Наносим на него ticks"
   ]
  },
  {
   "cell_type": "code",
   "execution_count": 39,
   "metadata": {
    "collapsed": true
   },
   "outputs": [],
   "source": [
    "plt.grid(which='major', ls='-', lw=0.5, c='k')\n",
    "plt.grid(which='minor', ls='--', lw=0.5, c='grey')"
   ]
  },
  {
   "cell_type": "markdown",
   "metadata": {},
   "source": [
    "Сохраняем результат"
   ]
  },
  {
   "cell_type": "code",
   "execution_count": 40,
   "metadata": {
    "collapsed": true
   },
   "outputs": [],
   "source": [
    "plt.savefig(\"out_graph.png\")"
   ]
  },
  {
   "cell_type": "code",
   "execution_count": 41,
   "metadata": {},
   "outputs": [
    {
     "data": {
      "text/plain": [
       "<matplotlib.figure.Figure at 0x7feadfa89150>"
      ]
     },
     "metadata": {},
     "output_type": "display_data"
    },
    {
     "data": {
      "image/png": "[encoded data removed]",
      "text/plain": [
       "<matplotlib.figure.Figure at 0x7feadf9f3510>"
      ]
     },
     "metadata": {},
     "output_type": "display_data"
    }
   ],
   "source": [
    "plt.show()"
   ]
  },
  {
   "cell_type": "code",
   "execution_count": null,
   "metadata": {
    "collapsed": true
   },
   "outputs": [],
   "source": []
  }
 ],
 "metadata": {
  "kernelspec": {
   "display_name": "Python 2",
   "language": "python",
   "name": "python2"
  },
  "language_info": {
   "codemirror_mode": {
    "name": "ipython",
    "version": 2
   },
   "file_extension": ".py",
   "mimetype": "text/x-python",
   "name": "python",
   "nbconvert_exporter": "python",
   "pygments_lexer": "ipython2",
   "version": "2.7.13"
  }
 },
 "nbformat": 4,
 "nbformat_minor": 1
}
